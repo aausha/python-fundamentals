{
 "cells": [
  {
   "cell_type": "markdown",
   "metadata": {},
   "source": [
    "## Input and Output"
   ]
  },
  {
   "cell_type": "code",
   "execution_count": 14,
   "metadata": {},
   "outputs": [],
   "source": [
    "import json as json\n",
    "import pandas as pd\n",
    "import numpy as np\n",
    "import matplotlib.pyplot as plt\n",
    "import random as random"
   ]
  },
  {
   "cell_type": "markdown",
   "metadata": {},
   "source": [
    "### Txt file"
   ]
  },
  {
   "cell_type": "markdown",
   "metadata": {},
   "source": [
    "- ```with open ()``` method"
   ]
  },
  {
   "cell_type": "code",
   "execution_count": 12,
   "metadata": {},
   "outputs": [],
   "source": [
    "with open('data/test.txt', 'w')as file:\n",
    "    for k in range(100):\n",
    "        file.write(\"it is your \"+ str(k) + \"th turn! \\n\")"
   ]
  },
  {
   "cell_type": "markdown",
   "metadata": {},
   "source": [
    "- ```open()``` and ```close()``` method"
   ]
  },
  {
   "cell_type": "code",
   "execution_count": 5,
   "metadata": {},
   "outputs": [],
   "source": [
    "txtfile = open(\"data/textdata.txt\",'w')"
   ]
  },
  {
   "cell_type": "code",
   "execution_count": 7,
   "metadata": {},
   "outputs": [],
   "source": [
    "for i in range (1000):\n",
    "    '''check even or odd'''\n",
    "    if i%2 ==0:\n",
    "        txtfile.write(str(i) + \"|It is even \\n\")\n",
    "        \n",
    "        '''check above or below 500'''\n",
    "        if i<500:\n",
    "            txtfile.write(str(i) + \"|It is below 500 \\n\")\n",
    "        else:\n",
    "            txtfile.write(str(i) + \"|It is above 500 \\n\")\n",
    "            \n",
    "    else:\n",
    "        txtfile.write(str(i) + \"|It is odd \\n\")\n",
    "        \n",
    "        '''check above or below 500'''\n",
    "        if i<500:\n",
    "            txtfile.write(str(i) + \"|It is below 500 \\n\")\n",
    "        else:\n",
    "            txtfile.write(str(i) + \"|It is above 500 \\n\")\n",
    "            \n",
    "txtfile.close()"
   ]
  },
  {
   "cell_type": "markdown",
   "metadata": {},
   "source": [
    "- uploading/reading text file"
   ]
  },
  {
   "cell_type": "code",
   "execution_count": 13,
   "metadata": {},
   "outputs": [
    {
     "name": "stdout",
     "output_type": "stream",
     "text": [
      "0|It is even \n",
      "\n",
      "0|It is below 500 \n",
      "\n",
      "1|It is odd \n",
      "\n",
      "1|It is below 500 \n",
      "\n",
      "2|It is even \n",
      "\n",
      "2|It is below 500 \n",
      "\n",
      "3|It is odd \n",
      "\n",
      "3|It is below 500 \n",
      "\n",
      "4|It is even \n",
      "\n",
      "4|It is below 500 \n",
      "\n",
      "5|It is odd \n",
      "\n",
      "5|It is below 500 \n",
      "\n"
     ]
    }
   ],
   "source": [
    "with open('data/textdata.txt','r') as f:\n",
    "    i = 0\n",
    "    for line in f:\n",
    "        print(line)\n",
    "        if i >10:\n",
    "            break\n",
    "        i = i+1"
   ]
  },
  {
   "cell_type": "markdown",
   "metadata": {},
   "source": [
    "### JSON file"
   ]
  },
  {
   "cell_type": "code",
   "execution_count": 21,
   "metadata": {},
   "outputs": [],
   "source": [
    "Data = []\n",
    "for k in range(1000):\n",
    "    Data.append({\"x\": [np.random.uniform(0,10)],\\\n",
    "        \"y\": [np.random.uniform(0,20)],\\\n",
    "        \"z\" : [np.random.uniform(0,10)]})"
   ]
  },
  {
   "cell_type": "code",
   "execution_count": 22,
   "metadata": {},
   "outputs": [
    {
     "data": {
      "text/plain": [
       "[{'x': [1.8839346315348737],\n",
       "  'y': [6.0835072634662986],\n",
       "  'z': [3.276104104086145]},\n",
       " {'x': [9.628121052955331],\n",
       "  'y': [16.700772917067376],\n",
       "  'z': [9.745359117486796]}]"
      ]
     },
     "execution_count": 22,
     "metadata": {},
     "output_type": "execute_result"
    }
   ],
   "source": [
    "Data[0:2]"
   ]
  },
  {
   "cell_type": "markdown",
   "metadata": {},
   "source": [
    "- Save data to a JSON file"
   ]
  },
  {
   "cell_type": "code",
   "execution_count": 23,
   "metadata": {},
   "outputs": [],
   "source": [
    "with open(\"data/sample_data.json\", 'w')as f:\n",
    "    json.dump(Data,f)"
   ]
  },
  {
   "cell_type": "markdown",
   "metadata": {},
   "source": [
    "- Upload data from JSON file"
   ]
  },
  {
   "cell_type": "code",
   "execution_count": 25,
   "metadata": {},
   "outputs": [],
   "source": [
    "with open(\"data/sample_data.json\",\"r\")as f:\n",
    "    uploaded_data = json.load(f)"
   ]
  },
  {
   "cell_type": "code",
   "execution_count": 26,
   "metadata": {},
   "outputs": [
    {
     "data": {
      "text/plain": [
       "[{'x': [1.8839346315348737],\n",
       "  'y': [6.0835072634662986],\n",
       "  'z': [3.276104104086145]},\n",
       " {'x': [9.628121052955331],\n",
       "  'y': [16.700772917067376],\n",
       "  'z': [9.745359117486796]}]"
      ]
     },
     "execution_count": 26,
     "metadata": {},
     "output_type": "execute_result"
    }
   ],
   "source": [
    "uploaded_data[0:2]"
   ]
  },
  {
   "cell_type": "markdown",
   "metadata": {},
   "source": [
    "### CSV file"
   ]
  },
  {
   "cell_type": "code",
   "execution_count": 27,
   "metadata": {},
   "outputs": [
    {
     "data": {
      "text/html": [
       "<div>\n",
       "<style scoped>\n",
       "    .dataframe tbody tr th:only-of-type {\n",
       "        vertical-align: middle;\n",
       "    }\n",
       "\n",
       "    .dataframe tbody tr th {\n",
       "        vertical-align: top;\n",
       "    }\n",
       "\n",
       "    .dataframe thead th {\n",
       "        text-align: right;\n",
       "    }\n",
       "</style>\n",
       "<table border=\"1\" class=\"dataframe\">\n",
       "  <thead>\n",
       "    <tr style=\"text-align: right;\">\n",
       "      <th></th>\n",
       "      <th>x</th>\n",
       "      <th>y</th>\n",
       "      <th>z</th>\n",
       "    </tr>\n",
       "  </thead>\n",
       "  <tbody>\n",
       "    <tr>\n",
       "      <th>0</th>\n",
       "      <td>[1.8839346315348737]</td>\n",
       "      <td>[6.0835072634662986]</td>\n",
       "      <td>[3.276104104086145]</td>\n",
       "    </tr>\n",
       "    <tr>\n",
       "      <th>1</th>\n",
       "      <td>[9.628121052955331]</td>\n",
       "      <td>[16.700772917067376]</td>\n",
       "      <td>[9.745359117486796]</td>\n",
       "    </tr>\n",
       "    <tr>\n",
       "      <th>2</th>\n",
       "      <td>[2.0768931636980845]</td>\n",
       "      <td>[5.849768937283848]</td>\n",
       "      <td>[8.084610814826279]</td>\n",
       "    </tr>\n",
       "    <tr>\n",
       "      <th>3</th>\n",
       "      <td>[0.2372457845228848]</td>\n",
       "      <td>[15.49667141911166]</td>\n",
       "      <td>[9.944603467579137]</td>\n",
       "    </tr>\n",
       "    <tr>\n",
       "      <th>4</th>\n",
       "      <td>[0.3459712171618945]</td>\n",
       "      <td>[7.018321208449565]</td>\n",
       "      <td>[9.626557810956909]</td>\n",
       "    </tr>\n",
       "  </tbody>\n",
       "</table>\n",
       "</div>"
      ],
      "text/plain": [
       "                      x                     y                    z\n",
       "0  [1.8839346315348737]  [6.0835072634662986]  [3.276104104086145]\n",
       "1   [9.628121052955331]  [16.700772917067376]  [9.745359117486796]\n",
       "2  [2.0768931636980845]   [5.849768937283848]  [8.084610814826279]\n",
       "3  [0.2372457845228848]   [15.49667141911166]  [9.944603467579137]\n",
       "4  [0.3459712171618945]   [7.018321208449565]  [9.626557810956909]"
      ]
     },
     "execution_count": 27,
     "metadata": {},
     "output_type": "execute_result"
    }
   ],
   "source": [
    "DF = pd.DataFrame(Data)\n",
    "DF.head()"
   ]
  },
  {
   "cell_type": "markdown",
   "metadata": {},
   "source": [
    "- Save data to a CSV file"
   ]
  },
  {
   "cell_type": "code",
   "execution_count": 30,
   "metadata": {},
   "outputs": [],
   "source": [
    "DF.to_csv(\"data/sampledata.csv\")"
   ]
  },
  {
   "cell_type": "markdown",
   "metadata": {},
   "source": [
    "- Upload data from a CSV file"
   ]
  },
  {
   "cell_type": "code",
   "execution_count": 35,
   "metadata": {},
   "outputs": [],
   "source": [
    "uploaded_data = pd.read_csv(\"data/sampledata.csv\")"
   ]
  },
  {
   "cell_type": "code",
   "execution_count": 36,
   "metadata": {},
   "outputs": [
    {
     "data": {
      "text/html": [
       "<div>\n",
       "<style scoped>\n",
       "    .dataframe tbody tr th:only-of-type {\n",
       "        vertical-align: middle;\n",
       "    }\n",
       "\n",
       "    .dataframe tbody tr th {\n",
       "        vertical-align: top;\n",
       "    }\n",
       "\n",
       "    .dataframe thead th {\n",
       "        text-align: right;\n",
       "    }\n",
       "</style>\n",
       "<table border=\"1\" class=\"dataframe\">\n",
       "  <thead>\n",
       "    <tr style=\"text-align: right;\">\n",
       "      <th></th>\n",
       "      <th>Unnamed: 0</th>\n",
       "      <th>x</th>\n",
       "      <th>y</th>\n",
       "      <th>z</th>\n",
       "    </tr>\n",
       "  </thead>\n",
       "  <tbody>\n",
       "    <tr>\n",
       "      <th>0</th>\n",
       "      <td>0</td>\n",
       "      <td>[1.8839346315348737]</td>\n",
       "      <td>[6.0835072634662986]</td>\n",
       "      <td>[3.276104104086145]</td>\n",
       "    </tr>\n",
       "    <tr>\n",
       "      <th>1</th>\n",
       "      <td>1</td>\n",
       "      <td>[9.628121052955331]</td>\n",
       "      <td>[16.700772917067376]</td>\n",
       "      <td>[9.745359117486796]</td>\n",
       "    </tr>\n",
       "    <tr>\n",
       "      <th>2</th>\n",
       "      <td>2</td>\n",
       "      <td>[2.0768931636980845]</td>\n",
       "      <td>[5.849768937283848]</td>\n",
       "      <td>[8.084610814826279]</td>\n",
       "    </tr>\n",
       "    <tr>\n",
       "      <th>3</th>\n",
       "      <td>3</td>\n",
       "      <td>[0.2372457845228848]</td>\n",
       "      <td>[15.49667141911166]</td>\n",
       "      <td>[9.944603467579137]</td>\n",
       "    </tr>\n",
       "    <tr>\n",
       "      <th>4</th>\n",
       "      <td>4</td>\n",
       "      <td>[0.3459712171618945]</td>\n",
       "      <td>[7.018321208449565]</td>\n",
       "      <td>[9.626557810956909]</td>\n",
       "    </tr>\n",
       "  </tbody>\n",
       "</table>\n",
       "</div>"
      ],
      "text/plain": [
       "   Unnamed: 0                     x                     y                    z\n",
       "0           0  [1.8839346315348737]  [6.0835072634662986]  [3.276104104086145]\n",
       "1           1   [9.628121052955331]  [16.700772917067376]  [9.745359117486796]\n",
       "2           2  [2.0768931636980845]   [5.849768937283848]  [8.084610814826279]\n",
       "3           3  [0.2372457845228848]   [15.49667141911166]  [9.944603467579137]\n",
       "4           4  [0.3459712171618945]   [7.018321208449565]  [9.626557810956909]"
      ]
     },
     "execution_count": 36,
     "metadata": {},
     "output_type": "execute_result"
    }
   ],
   "source": [
    "uploaded_data.head()"
   ]
  },
  {
   "cell_type": "code",
   "execution_count": null,
   "metadata": {},
   "outputs": [],
   "source": []
  },
  {
   "cell_type": "code",
   "execution_count": null,
   "metadata": {},
   "outputs": [],
   "source": []
  },
  {
   "cell_type": "code",
   "execution_count": null,
   "metadata": {},
   "outputs": [],
   "source": []
  }
 ],
 "metadata": {
  "kernelspec": {
   "display_name": "Python 3",
   "language": "python",
   "name": "python3"
  },
  "language_info": {
   "codemirror_mode": {
    "name": "ipython",
    "version": 3
   },
   "file_extension": ".py",
   "mimetype": "text/x-python",
   "name": "python",
   "nbconvert_exporter": "python",
   "pygments_lexer": "ipython3",
   "version": "3.7.3"
  }
 },
 "nbformat": 4,
 "nbformat_minor": 2
}
