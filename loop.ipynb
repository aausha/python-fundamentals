{
 "cells": [
  {
   "cell_type": "code",
   "execution_count": 1,
   "metadata": {},
   "outputs": [
    {
     "data": {
      "text/plain": [
       "[0, 1, 2, 3, 4, 5, 6, 7, 8, 9]"
      ]
     },
     "execution_count": 1,
     "metadata": {},
     "output_type": "execute_result"
    }
   ],
   "source": [
    "L=[]\n",
    "for i in range(10):\n",
    "    L.append(i)\n",
    "L"
   ]
  },
  {
   "cell_type": "code",
   "execution_count": 2,
   "metadata": {},
   "outputs": [
    {
     "name": "stdout",
     "output_type": "stream",
     "text": [
      "i= 1 j= 1 a= [3]\n",
      "i= 1 j= 2 a= [3, 5]\n",
      "i= 1 j= 3 a= [3, 5, 7]\n",
      "i= 1 j= 4 a= [3, 5, 7, 9]\n",
      "i= 2 j= 1 a= [3, 5, 7, 9, 4]\n",
      "i= 2 j= 2 a= [3, 5, 7, 9, 4, 6]\n",
      "i= 2 j= 3 a= [3, 5, 7, 9, 4, 6, 8]\n",
      "i= 2 j= 4 a= [3, 5, 7, 9, 4, 6, 8, 10]\n",
      "i= 3 j= 1 a= [3, 5, 7, 9, 4, 6, 8, 10, 5]\n",
      "i= 3 j= 2 a= [3, 5, 7, 9, 4, 6, 8, 10, 5, 7]\n",
      "i= 3 j= 3 a= [3, 5, 7, 9, 4, 6, 8, 10, 5, 7, 9]\n",
      "i= 3 j= 4 a= [3, 5, 7, 9, 4, 6, 8, 10, 5, 7, 9, 11]\n",
      "i= 4 j= 1 a= [3, 5, 7, 9, 4, 6, 8, 10, 5, 7, 9, 11, 6]\n",
      "i= 4 j= 2 a= [3, 5, 7, 9, 4, 6, 8, 10, 5, 7, 9, 11, 6, 8]\n",
      "i= 4 j= 3 a= [3, 5, 7, 9, 4, 6, 8, 10, 5, 7, 9, 11, 6, 8, 10]\n",
      "i= 4 j= 4 a= [3, 5, 7, 9, 4, 6, 8, 10, 5, 7, 9, 11, 6, 8, 10, 12]\n",
      "[3, 5, 7, 9, 4, 6, 8, 10, 5, 7, 9, 11, 6, 8, 10, 12]\n"
     ]
    }
   ],
   "source": [
    "a=[]\n",
    "for i in range(1,5):\n",
    "  for j in range(1,5):\n",
    "    a.append(i+2*j)\n",
    "    print ('i=',i,'j=',j, 'a=',a)\n",
    "print(a)\n",
    "    "
   ]
  },
  {
   "cell_type": "code",
   "execution_count": 3,
   "metadata": {},
   "outputs": [
    {
     "name": "stdout",
     "output_type": "stream",
     "text": [
      "[0, 10, 20, 30, 40, 50, 60, 70, 80, 90]\n"
     ]
    }
   ],
   "source": [
    "A=[10*k for k in range (10)]\n",
    "print(A)"
   ]
  },
  {
   "cell_type": "code",
   "execution_count": 5,
   "metadata": {},
   "outputs": [
    {
     "name": "stdout",
     "output_type": "stream",
     "text": [
      "[[0, 10, 20, 30], [1, 11, 21, 31], [2, 12, 22, 32]]\n"
     ]
    }
   ],
   "source": [
    "AA = [[10*x+y for x in range (4)] for y in range (3)]\n",
    "print(AA)"
   ]
  },
  {
   "cell_type": "code",
   "execution_count": 6,
   "metadata": {},
   "outputs": [
    {
     "name": "stdout",
     "output_type": "stream",
     "text": [
      "1\n",
      "3\n",
      "6\n",
      "10\n",
      "15\n",
      "21\n",
      "28\n",
      "36\n",
      "45\n",
      "55\n"
     ]
    }
   ],
   "source": [
    "sum = 0\n",
    "for i in range(1,11):\n",
    "    sum = sum+i\n",
    "    print(sum)"
   ]
  },
  {
   "cell_type": "code",
   "execution_count": 7,
   "metadata": {},
   "outputs": [
    {
     "name": "stdout",
     "output_type": "stream",
     "text": [
      "2\n",
      "4\n",
      "7\n",
      "11\n",
      "16\n",
      "22\n",
      "29\n",
      "37\n",
      "46\n",
      "56\n"
     ]
    }
   ],
   "source": [
    "product = 1\n",
    "for i in range(1,11):\n",
    "    product = product+i\n",
    "    print(product)"
   ]
  },
  {
   "cell_type": "code",
   "execution_count": null,
   "metadata": {},
   "outputs": [],
   "source": []
  }
 ],
 "metadata": {
  "kernelspec": {
   "display_name": "Python 3",
   "language": "python",
   "name": "python3"
  },
  "language_info": {
   "codemirror_mode": {
    "name": "ipython",
    "version": 3
   },
   "file_extension": ".py",
   "mimetype": "text/x-python",
   "name": "python",
   "nbconvert_exporter": "python",
   "pygments_lexer": "ipython3",
   "version": "3.7.6"
  }
 },
 "nbformat": 4,
 "nbformat_minor": 4
}
